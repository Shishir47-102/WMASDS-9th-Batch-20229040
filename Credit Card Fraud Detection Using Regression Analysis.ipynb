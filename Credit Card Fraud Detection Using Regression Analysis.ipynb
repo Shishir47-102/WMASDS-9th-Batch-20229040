Credit Card Fraud Detection Using Regression Analysis

A Project on Credit Card Fraud Detection Using Regression Analysis

Problem Statement:
Credit card fraud is a significant problem that has been on the rise in recent years. According to a report by Nilson, a trade publication covering the payments industry, losses due to credit card fraud worldwide reached over $27 billion in 2018 and are projected to increase in the coming years. The complexity and sophistication of fraudulent activities have made detecting and preventing fraudulent transactions challenging. The traditional rule-based systems that banks and financial institutions have relied on are no longer effective in detecting sophisticated fraud.
Machine learning solutions have emerged as a powerful tool to detect fraudulent transactions. By analyzing large amounts of data, machine learning algorithms can learn patterns of normal and fraudulent behavior, thus enabling more accurate and effective detection of fraudulent transactions. Machine learning-based fraud detection systems have the potential to save billions of dollars in losses and prevent financial crimes.
Course Code: WM-ASDS04

Submitted to:
Farhana Afrin Duty Asst. Professor, Dept. of Statistics, Jahangirnagar University

Submitted by:
Ajmir Al-Raji Chowdhury (ID: 20229040)

Group members:
Md. Tanvir Siraj , ID: 20229007
Mukesh Saha Dipto, ID:- 20229008
Irtefa Waseek, ID:- 20229012
Ajmir Al-Raji Chowdhury, ID:- 20229040
Ehsanuzzaman Surid, ID:- 20228013
