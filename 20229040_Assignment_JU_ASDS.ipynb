{
  "nbformat": 4,
  "nbformat_minor": 0,
  "metadata": {
    "colab": {
      "provenance": [],
      "authorship_tag": "ABX9TyP0/BMUyDSFfChKqiSJEO+g",
      "include_colab_link": true
    },
    "kernelspec": {
      "name": "python3",
      "display_name": "Python 3"
    },
    "language_info": {
      "name": "python"
    }
  },
  "cells": [
    {
      "cell_type": "markdown",
      "metadata": {
        "id": "view-in-github",
        "colab_type": "text"
      },
      "source": [
        "<a href=\"https://colab.research.google.com/github/Shishir47-102/dugout/blob/master/20229040_Assignment_JU_ASDS.ipynb\" target=\"_parent\"><img src=\"https://colab.research.google.com/assets/colab-badge.svg\" alt=\"Open In Colab\"/></a>"
      ]
    },
    {
      "cell_type": "markdown",
      "source": [
        "**1.Write a Python program to count the number of characters (character frequency) in a string. Sample String : google.com**\n",
        "\n",
        "Expected Result : {'o': 3, 'g': 2, '.': 1, 'e': 1, 'l': 1, }"
      ],
      "metadata": {
        "id": "-WbDwH0kREmz"
      }
    },
    {
      "cell_type": "code",
      "source": [
        "sample_string=\"google.com\"\n",
        "expected_dict = {}\n",
        "for n in sample_string:\n",
        "    keys = expected_dict.keys()\n",
        "    if n in keys:\n",
        "        expected_dict[n] += 1\n",
        "    else:\n",
        "        expected_dict[n] = 1\n",
        "print(expected_dict)"
      ],
      "metadata": {
        "colab": {
          "base_uri": "https://localhost:8080/"
        },
        "id": "F5g3ynGSmKkk",
        "outputId": "42027268-de81-46e8-8594-0720ec21f4b6"
      },
      "execution_count": 33,
      "outputs": [
        {
          "output_type": "stream",
          "name": "stdout",
          "text": [
            "{'g': 2, 'o': 3, 'l': 1, 'e': 1, '.': 1, 'c': 1, 'm': 1}\n"
          ]
        }
      ]
    },
    {
      "cell_type": "markdown",
      "source": [
        "**2. Write a Python program to check if a given key already exists in a dictionary**"
      ],
      "metadata": {
        "id": "TTf7fV1NUgRM"
      }
    },
    {
      "cell_type": "code",
      "source": [
        "def Key_check(My_dict, key):\n",
        "    if key in My_dict.keys():\n",
        "        print(f'{key} The key already present')\n",
        "    else:\n",
        "        print(f'{key} Sorry! This key does not present in the dictionary')\n",
        "\n",
        "My_dict={'Shishir':'20229040', 'admiral':'2033946'}\n",
        "\n",
        "check=input(\"Please insert the key as a string: \")\n",
        "\n",
        "Key_check(My_dict, check)\n",
        "\n"
      ],
      "metadata": {
        "colab": {
          "base_uri": "https://localhost:8080/"
        },
        "id": "enJzZ32NUuXr",
        "outputId": "a0956d20-7465-4515-91f3-2636120e367f"
      },
      "execution_count": 28,
      "outputs": [
        {
          "output_type": "stream",
          "name": "stdout",
          "text": [
            "Please insert the key as a string: Shishir\n",
            "Shishir The key already present\n"
          ]
        }
      ]
    },
    {
      "cell_type": "markdown",
      "source": [
        "**3.Write a Python program that accepts a sequence of comma-separated numbers from the user and generates a list and a tuple of those numbers. Sample data : 1, 5, 7, 23**\n",
        "\n",
        "Expected Output :\n",
        "\n",
        "List : ['1', ' 5', ' 7', ' 23']\n",
        "\n",
        "Tuple : ('1', ' 5', ' 7', ' 23)"
      ],
      "metadata": {
        "id": "kwXb1zBIXqw9"
      }
    },
    {
      "cell_type": "code",
      "source": [
        "Number=int(input(\"How many numbers do you want to include in the list \"))\n",
        "My_list=[]\n",
        "for i in range(0,Number): \n",
        "    User_input=int(input(\"Please input a number by typing the number and pressing enter key : \"))\n",
        "    My_list.append(User_input)\n",
        "print(My_list)\n",
        "print(tuple(My_list))"
      ],
      "metadata": {
        "colab": {
          "base_uri": "https://localhost:8080/"
        },
        "id": "v10t0WU2YcLK",
        "outputId": "8b3a4d89-b1b8-479f-a7af-1c990b4d383b"
      },
      "execution_count": 13,
      "outputs": [
        {
          "output_type": "stream",
          "name": "stdout",
          "text": [
            "How many numbers do you want to include in the list 4\n",
            "Please input a number by typing the number and pressing enter key : 1\n",
            "Please input a number by typing the number and pressing enter key : 5\n",
            "Please input a number by typing the number and pressing enter key : 7\n",
            "Please input a number by typing the number and pressing enter key : 23\n",
            "[1, 5, 7, 23]\n",
            "(1, 5, 7, 23)\n"
          ]
        }
      ]
    },
    {
      "cell_type": "markdown",
      "source": [
        "**4. Write a Python program to calculate the number of days between two dates. Sample dates : (2014, 7, 2), (2014, 7, 11)**\n",
        "\n",
        "Expected output : 9 days"
      ],
      "metadata": {
        "id": "VERXkX19ZSQC"
      }
    },
    {
      "cell_type": "code",
      "source": [
        "from datetime import date\n",
        "first_date = date(2014, 7, 2)\n",
        "last_date = date(2014, 7, 11)\n",
        "difference = last_date - first_date\n",
        "print(difference.days,\"days\")"
      ],
      "metadata": {
        "colab": {
          "base_uri": "https://localhost:8080/"
        },
        "id": "2s5JQMGkZlX6",
        "outputId": "3550c8ae-1816-4c76-f589-a4dfb453919d"
      },
      "execution_count": 14,
      "outputs": [
        {
          "output_type": "stream",
          "name": "stdout",
          "text": [
            "9 days\n"
          ]
        }
      ]
    },
    {
      "cell_type": "markdown",
      "source": [
        "**5. Write a Python program to solve (x + y) * (x + y)**\n",
        "\n",
        "Test Data : x = 4, y = 3\n",
        "\n",
        "Expected Output : (4 + 3) ^ 2) = 49"
      ],
      "metadata": {
        "id": "j9TGP0eUbiUT"
      }
    },
    {
      "cell_type": "code",
      "source": [
        "x=int(input(\"input a number: \"))\n",
        "y=int(input(\"input a number: \"))\n",
        "\n",
        "math=(x+y)*(x+y)\n",
        "print(math)"
      ],
      "metadata": {
        "colab": {
          "base_uri": "https://localhost:8080/"
        },
        "id": "WY6wpRd4dEAO",
        "outputId": "ccd55ea2-9bbf-4c55-b785-5f78e8935502"
      },
      "execution_count": 15,
      "outputs": [
        {
          "output_type": "stream",
          "name": "stdout",
          "text": [
            "input a number: 4\n",
            "input a number: 3\n",
            "49\n"
          ]
        }
      ]
    },
    {
      "cell_type": "markdown",
      "source": [
        "**6. Write a Python program to compute the future value of a specified principal amount, rate of interest, and number of years. Test Data : amt = 10000, int = 3.5, years = 7**\n",
        "\n",
        "Expected Output : 12722.79"
      ],
      "metadata": {
        "id": "OqvKzPtQf2e1"
      }
    },
    {
      "cell_type": "code",
      "source": [
        "principal_amount = float(input(\"Enter the principal amount: \"))\n",
        "rate_interest = float(input(\"Enter the interest rate: \"))\n",
        "years = int(input(\"Enter the number of years: \"))\n",
        "\n",
        "future_value = principal_amount * ((1 + (rate_interest/100)) ** years)\n",
        "\n",
        "print(\"The future value is:\", round(future_value, 2))"
      ],
      "metadata": {
        "colab": {
          "base_uri": "https://localhost:8080/"
        },
        "id": "bV13EzO9gCDR",
        "outputId": "0351e63c-cb0e-438c-e829-b6a03b73b2c5"
      },
      "execution_count": 16,
      "outputs": [
        {
          "output_type": "stream",
          "name": "stdout",
          "text": [
            "Enter the principal amount: 10000\n",
            "Enter the interest rate: 3.5\n",
            "Enter the number of years: 7\n",
            "The future value is: 12722.79\n"
          ]
        }
      ]
    },
    {
      "cell_type": "markdown",
      "source": [
        "**7. Write a Python program that removes duplicate elements from a given array of numbers so that each element appears only once and returns the new length of the array. Sample Input: [0,0,1,1,2,2,3,3,4,4,4]**\n",
        "\n",
        "Sample Output:\n",
        "\n",
        "The list of unique numbers: [0,1,2,3,4]\n",
        "\n",
        "length of the unique list : 5"
      ],
      "metadata": {
        "id": "gmzzE9Gags-0"
      }
    },
    {
      "cell_type": "code",
      "source": [
        "my_list = input(\"Enter a list of integers with space: \").split(\" \")\n",
        "my_list = [int(x) for x in my_list]\n",
        "new_list = []\n",
        "for element in my_list:\n",
        "    if element not in new_list:\n",
        "        new_list.append(element)\n",
        "print(f\"The list of unique numbers: {new_list}\")\n",
        "print(\"Length of the unique list: \", len(new_list))"
      ],
      "metadata": {
        "colab": {
          "base_uri": "https://localhost:8080/"
        },
        "id": "guAkGFdchaft",
        "outputId": "1b03d97d-901a-420f-a7ac-8e612ab58fde"
      },
      "execution_count": 18,
      "outputs": [
        {
          "output_type": "stream",
          "name": "stdout",
          "text": [
            "Enter a list of integers with space: 0 0 1 1 2 2 3 3 4 4 4\n",
            "The list of unique numbers: [0, 1, 2, 3, 4]\n",
            "Length of the unique list:  5\n"
          ]
        }
      ]
    },
    {
      "cell_type": "markdown",
      "source": [
        "**8. Write a Python program to sort (ascending and descending) a dictionary by key value**"
      ],
      "metadata": {
        "id": "EchvcPquh9dT"
      }
    },
    {
      "cell_type": "code",
      "source": [
        "my_dict = {1: 2, 3: 4, 5: 4, 3: 1, 2: 0}\n",
        "result = sorted(my_dict.items())\n",
        "new_dict = sorted(my_dict.items(),  reverse = True)\n",
        "print(\"Ascending:\",result)\n",
        "print(\"decending:\",new_dict)"
      ],
      "metadata": {
        "colab": {
          "base_uri": "https://localhost:8080/"
        },
        "id": "HtEAr9sTijTt",
        "outputId": "fe859ae5-7cc8-4cd6-8599-cb4718ee15b4"
      },
      "execution_count": 19,
      "outputs": [
        {
          "output_type": "stream",
          "name": "stdout",
          "text": [
            "Ascending: [(1, 2), (2, 0), (3, 1), (5, 4)]\n",
            "decending: [(5, 4), (3, 1), (2, 0), (1, 2)]\n"
          ]
        }
      ]
    },
    {
      "cell_type": "markdown",
      "source": [
        "**9. Write a Python program to add key to a dictionary. Go to the editor**\n",
        "\n",
        "Sample Dictionary : {0: 10, 1: 20}\n",
        "\n",
        "Expected Result : {0: 10, 1: 20, 2: 30}"
      ],
      "metadata": {
        "id": "ZztTIOuBjA0L"
      }
    },
    {
      "cell_type": "code",
      "source": [
        "dict = {0:10, 1:20}\n",
        "print(dict)\n",
        "dict.update({2:30})\n",
        "print(dict)"
      ],
      "metadata": {
        "colab": {
          "base_uri": "https://localhost:8080/"
        },
        "id": "aotsXyr5jGRK",
        "outputId": "92d53f80-6cac-4c0b-bb9e-242cca32db3b"
      },
      "execution_count": 20,
      "outputs": [
        {
          "output_type": "stream",
          "name": "stdout",
          "text": [
            "{0: 10, 1: 20}\n",
            "{0: 10, 1: 20, 2: 30}\n"
          ]
        }
      ]
    },
    {
      "cell_type": "markdown",
      "source": [
        "**10. Write a Pandas program to create and display a DataFrame from a specified dictionary datawhich has the index labels. Sample Python dictionary data and list labels:**\n",
        "\n",
        "exam_data = {'name': ['Arif', 'Asir', 'Arik', 'Anis', 'Anil', 'Ashish', 'Anahi', 'Alia', 'Alvin', 'Asim'],\n",
        "\n",
        "'score': [12.5, 9, 16.5, np.nan, 9, 20, 14.5, np.nan, 8, 19],\n",
        "\n",
        "'attempts': [1, 3, 2, 3, 2, 3, 1, 1, 2, 1],\n",
        "\n",
        "'qualify': ['yes', 'no', 'yes', 'no', 'no', 'yes', 'yes', 'no', 'no', 'yes']}\n",
        "\n",
        "labels = ['a', 'b', 'c', 'd', 'e', 'f', 'g',"
      ],
      "metadata": {
        "id": "CUSBXml6jP85"
      }
    },
    {
      "cell_type": "code",
      "source": [
        "import pandas as pd\n",
        "import numpy as np\n",
        "\n",
        "exam_data = {\n",
        "    'name': ['Arif', 'Asir', 'Arik', 'Anis', 'Anil', 'Ashish', 'Anahi', 'Alia', 'Alvin', 'Asim'],\n",
        "    'score': [12.5, 9, 16.5, np.nan, 9, 20, 14.5, np.nan, 8, 19],\n",
        "    'attempts': [1, 3, 2, 3, 2, 3, 1, 1, 2, 1],\n",
        "    'qualify': ['yes', 'no', 'yes', 'no', 'no', 'yes', 'yes', 'no', 'no', 'yes']\n",
        "}\n",
        "\n",
        "labels = ['a', 'b', 'c', 'd', 'e', 'f', 'g', 'h', 'i', 'j']\n",
        "\n",
        "df = pd.DataFrame(exam_data, index=labels)\n",
        "\n",
        "print(df)"
      ],
      "metadata": {
        "colab": {
          "base_uri": "https://localhost:8080/"
        },
        "id": "ixe424nyjlUU",
        "outputId": "71c4d5e8-b1d9-4da2-b0b1-d75225134b70"
      },
      "execution_count": 21,
      "outputs": [
        {
          "output_type": "stream",
          "name": "stdout",
          "text": [
            "     name  score  attempts qualify\n",
            "a    Arif   12.5         1     yes\n",
            "b    Asir    9.0         3      no\n",
            "c    Arik   16.5         2     yes\n",
            "d    Anis    NaN         3      no\n",
            "e    Anil    9.0         2      no\n",
            "f  Ashish   20.0         3     yes\n",
            "g   Anahi   14.5         1     yes\n",
            "h    Alia    NaN         1      no\n",
            "i   Alvin    8.0         2      no\n",
            "j    Asim   19.0         1     yes\n"
          ]
        }
      ]
    }
  ]
}